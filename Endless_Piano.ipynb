{
  "nbformat": 4,
  "nbformat_minor": 0,
  "metadata": {
    "colab": {
      "name": "Endless_Piano.ipynb",
      "private_outputs": true,
      "provenance": [],
      "collapsed_sections": [],
      "toc_visible": true
    },
    "kernelspec": {
      "name": "python3",
      "display_name": "Python 3"
    },
    "language_info": {
      "name": "python"
    }
  },
  "cells": [
    {
      "cell_type": "markdown",
      "metadata": {
        "id": "d5pKoNB3iryl"
      },
      "source": [
        "# Endless Piano (ver. 2.0)\n",
        "\n",
        "***\n",
        "\n",
        "## Endless Melody-Conditioned Semi-Generative Performance Piano Music Generator\n",
        "\n",
        "***\n",
        "\n",
        "### Powered by tegridy-tools TMIDI 2.3\n",
        "\n",
        "***\n",
        "\n",
        "#### Project Los Angeles\n",
        "\n",
        "#### Tegridy Code 2021\n",
        "\n",
        "***"
      ]
    },
    {
      "cell_type": "markdown",
      "metadata": {
        "id": "DRwPzKS6jQig"
      },
      "source": [
        "# Setup environment"
      ]
    },
    {
      "cell_type": "code",
      "metadata": {
        "id": "kjCVG96FqP_v",
        "cellView": "form"
      },
      "source": [
        "#@title Install tegridy-tools\n",
        "!git clone https://github.com/asigalov61/tegridy-tools"
      ],
      "execution_count": null,
      "outputs": []
    },
    {
      "cell_type": "code",
      "metadata": {
        "id": "gspS8w4qqcOS",
        "cellView": "form"
      },
      "source": [
        "#@title Import all needed modules\n",
        "\n",
        "print('Loading needed modules. Please wait...')\n",
        "import os\n",
        "import copy\n",
        "\n",
        "from tqdm import auto\n",
        "\n",
        "import secrets\n",
        "import random\n",
        "\n",
        "if not os.path.exists('/content/Dataset'):\n",
        "    os.makedirs('/content/Dataset')\n",
        "\n",
        "if not os.path.exists('/content/Output'):\n",
        "    os.makedirs('/content/Output')\n",
        "\n",
        "os.chdir('/content/tegridy-tools/tegridy-tools')\n",
        "import TMIDI\n",
        "\n",
        "import tqdm\n",
        "from tqdm import auto\n",
        "\n",
        "os.chdir('/content/')\n",
        "print('Loading complete. Enjoy! :)')"
      ],
      "execution_count": null,
      "outputs": []
    },
    {
      "cell_type": "markdown",
      "metadata": {
        "id": "8nagF7bq9cH-"
      },
      "source": [
        "# Download and load Endless Piano Model (Recommended)"
      ]
    },
    {
      "cell_type": "code",
      "metadata": {
        "cellView": "form",
        "id": "GW-CHqRb9iQE"
      },
      "source": [
        "#@title Download the model\n",
        "!wget https://github.com/asigalov61/Endless-Piano/raw/main/Model/Endless-Piano-Music-Model.zip\n",
        "!unzip -j Endless-Piano-Music-Model.zip"
      ],
      "execution_count": null,
      "outputs": []
    },
    {
      "cell_type": "code",
      "metadata": {
        "cellView": "form",
        "id": "Bnw_BGKuA2XW"
      },
      "source": [
        "#@title Load the model\n",
        "chords_list_f = TMIDI.Tegridy_Any_Pickle_File_Loader('/content/Endless-Piano-Music-Model')"
      ],
      "execution_count": null,
      "outputs": []
    },
    {
      "cell_type": "markdown",
      "metadata": {
        "id": "3NvuXtaHfflL"
      },
      "source": [
        "# (OPTIONAL) Process your own dataset"
      ]
    },
    {
      "cell_type": "code",
      "metadata": {
        "id": "Snrqk7iIjZIw",
        "cellView": "form"
      },
      "source": [
        "#@title Process MIDIs to special MIDI dataset with Tegridy MIDI Processor\n",
        "\n",
        "desired_dataset_name = \"Endless-Piano-Music-Dataset\" #@param {type:\"string\"}\n",
        "file_name_to_output_dataset_to = \"/content/Endless-Piano-Music-Dataset\" #@param {type:\"string\"}\n",
        "desired_MIDI_channel_to_process = -1 #@param {type:\"slider\", min:-1, max:16, step:1}\n",
        "encode_MIDI_channels = False #@param {type:\"boolean\"}\n",
        "encode_velocities = False #@param {type:\"boolean\"}\n",
        "chordify_input_MIDIs = False #@param {type:\"boolean\"}\n",
        "melody_conditioned_encoding = False #@param {type:\"boolean\"}\n",
        "melody_pitch_baseline = 60 #@param {type:\"slider\", min:1, max:127, step:1}\n",
        "time_denominator = 1 #@param {type:\"slider\", min:1, max:20, step:1}\n",
        "chars_encoding_offset = 196 #@param {type:\"number\"}\n",
        "miliseconds_per_slice = 1000 #@param {type:\"slider\", min:1000, max:4000, step:1000}\n",
        "\n",
        "print('TMIDI Processor')\n",
        "print('Starting up...')\n",
        "\n",
        "###########\n",
        "\n",
        "average_note_pitch = 0\n",
        "min_note = 127\n",
        "max_note = 0\n",
        "\n",
        "files_count = 0\n",
        "\n",
        "ev = 0\n",
        "notes_list_f = []\n",
        "chords_list_f = []\n",
        "melody_list_f = []\n",
        "\n",
        "chords_list = []\n",
        "chords_count = 0\n",
        "\n",
        "melody_chords = []\n",
        "melody_count = 0\n",
        "\n",
        "TXT = ''\n",
        "melody = []\n",
        "chords = []\n",
        "bf = 0\n",
        "###########\n",
        "\n",
        "print('Loading MIDI files...')\n",
        "print('This may take a while on a large dataset in particular.')\n",
        "\n",
        "dataset_addr = \"/content/Dataset/\"\n",
        "os.chdir(dataset_addr)\n",
        "filez = list()\n",
        "for (dirpath, dirnames, filenames) in os.walk(dataset_addr):\n",
        "    filez += [os.path.join(dirpath, file) for file in filenames]\n",
        "\n",
        "# Stamping the dataset\n",
        "print('Stamping the dataset...')\n",
        "\n",
        "TXT_String = 'DATASET=' + str(desired_dataset_name) + chr(10)\n",
        "TXT_String += 'CHARS_ENCODING_OFFSET=' + str(chars_encoding_offset) + chr(10)\n",
        "TXT_String += 'LEGEND=STA-DUR-PTC'\n",
        "if encode_velocities:\n",
        "  TXT_String += '-VEL'\n",
        "if encode_MIDI_channels:\n",
        "  TXT_String += '-CHA'\n",
        "TXT_String += chr(10)\n",
        "pf = []\n",
        "kar_ev = []\n",
        "pxp_ev = []\n",
        "print('Processing MIDI files. Please wait...')\n",
        "for f in tqdm.auto.tqdm(filez):\n",
        "  try:\n",
        "    fn = os.path.basename(f)\n",
        "\n",
        "    fnn = fn\n",
        "    fn1 = fnn.split('.')[0]\n",
        "    fn3 = ['Unknown']\n",
        "\n",
        "    #fn2 = fn.split('.')[0]\n",
        "    #fn3 = lakh[str(fn2)]\n",
        "    #fn1 = fn3[0].split('.')[-2].split('/')[-1]\n",
        "\n",
        "    TXT, melody, chords = TMIDI.Optimus_MIDI_TXT_Processor(f, \n",
        "                                                           line_by_line_output=False, \n",
        "                                                           chordify_TXT=chordify_input_MIDIs, \n",
        "                                                           output_MIDI_channels=encode_MIDI_channels, \n",
        "                                                           char_offset=chars_encoding_offset, \n",
        "                                                           dataset_MIDI_events_time_denominator=time_denominator, \n",
        "                                                           output_velocity=encode_velocities, \n",
        "                                                           MIDI_channel=desired_MIDI_channel_to_process,\n",
        "                                                           MIDI_patch=range(0,127), \n",
        "                                                           melody_conditioned_encoding=melody_conditioned_encoding,\n",
        "                                                           melody_pitch_baseline=melody_pitch_baseline,\n",
        "                                                           song_name=fn1, \n",
        "                                                           perfect_timings=True)\n",
        "    chords_list_f.append(TMIDI.Tegridy_Score_Slicer(chords, miliseconds_per_slice)[0])\n",
        "\n",
        "    melody_list_f.append(melody)\n",
        "\n",
        "    pf.append([fn1, f.split('/')[-2], f.replace('/content/Dataset/','/LAKH/clean_midi/')])\n",
        "\n",
        "\n",
        "    files_count += 1\n",
        "\n",
        "  except KeyboardInterrupt:\n",
        "    print('Exiting...Saving progress...')\n",
        "    break\n",
        "\n",
        "  except:\n",
        "    bf += 1\n",
        "    print('Bad MIDI:', f)\n",
        "    print('Count:', bf)\n",
        "    \n",
        "    continue\n",
        "\n",
        "#print('Stamping total number of songs...')\n",
        "#TXT_String += 'TOTAL_SONGS_COUNT=' + str(files_count)\n",
        "\n",
        "print('Task complete :)')\n",
        "print('==================================================')\n",
        "#print('Number of processed dataset MIDI files:', files_count)\n",
        "#print('Number of MIDI chords recorded:', len(chords_list_f))\n",
        "#print('First chord event:', chords_list_f[0], 'Last chord event:', chords_list_f[-1]) \n",
        "#print('Number of recorded melody events:', len(melody_list_f))\n",
        "#print('First melody event:', melody_list_f[0], 'Last Melody event:', melody_list_f[-1])\n",
        "#print('Total number of MIDI events recorded:', len(chords_list_f) + len(melody_list_f))\n",
        "\n",
        "# Writing dataset to TXT file\n",
        "#print('Writing dataset to TXT file...')\n",
        "#with open(file_name_to_output_dataset_to + '.txt', 'wb') as f:\n",
        "  #f.write(TXT_String.encode('utf-8', 'replace'))\n",
        "  #f.close\n",
        "\n",
        "# Dataset\n",
        "print('Finalizing the dataset...')\n",
        "MusicDataset = [chords_list_f, melody_list_f, kar_ev, filez, pf, bf, files_count]\n",
        "\n",
        "# Writing dataset to pickle file\n",
        "print('Writing dataset to pickle file...')\n",
        "TMIDI.Tegridy_Pickle_File_Writer(MusicDataset, file_name_to_output_dataset_to)"
      ],
      "execution_count": null,
      "outputs": []
    },
    {
      "cell_type": "markdown",
      "metadata": {
        "id": "tRa6Kg5rBIDl"
      },
      "source": [
        "# Generate Music"
      ]
    },
    {
      "cell_type": "code",
      "metadata": {
        "id": "Tgp7H3CAsK_3",
        "cellView": "form"
      },
      "source": [
        "#@title Generate endless Piano performance music\n",
        "desired_number_of_notes = 200 #@param {type:\"slider\", min:50, max:500, step:50}\n",
        "full_path_to_custom_MIDI_file = \"\" #@param {type:\"string\"}\n",
        "match_coefficient = 15 #@param {type:\"slider\", min:1, max:20, step:1}\n",
        "invert_chords_onsets = False #@param {type:\"boolean\"}\n",
        "randomize_dataset = True #@param {type:\"boolean\"}\n",
        "\n",
        "print('=' * 50)\n",
        "print('Endless Piano')\n",
        "print('=' * 50)\n",
        "\n",
        "print('Prepping data...')\n",
        "chords_list = []\n",
        "\n",
        "for c in chords_list_f:\n",
        "  for cc in c:\n",
        "    chords_list.append(cc)\n",
        "    \n",
        "print('=' * 50)\n",
        "\n",
        "if randomize_dataset:\n",
        "  print('Re-randomizing for freshness... :)')\n",
        "  random.shuffle(chords_list)\n",
        "  print('=' * 50)\n",
        "\n",
        "if full_path_to_custom_MIDI_file != '':\n",
        "  print('Loading custom MIDI...')\n",
        "  print(full_path_to_custom_MIDI_file)\n",
        "  print('=' * 50)\n",
        "\n",
        "else:\n",
        "  print('Using randomly selected melody from the dataset')\n",
        "  print('=' * 50)\n",
        "\n",
        "print('Generating...')\n",
        "\n",
        "song = copy.deepcopy(chords_list[secrets.randbelow(len(chords_list))])\n",
        "l = -1\n",
        "\n",
        "for i in range(len(chords_list)):\n",
        "  if song == []: l = len(song) * -1\n",
        "  \n",
        "  song.extend(chords_list[secrets.randbelow(len(chords_list))])\n",
        "\n",
        "  if full_path_to_custom_MIDI_file != '':\n",
        "    t, m, c = TMIDI.Optimus_MIDI_TXT_Processor(full_path_to_custom_MIDI_file, MIDI_patch=range(127), MIDI_channel=-1)\n",
        "  \n",
        "  else:\n",
        "    m = chords_list_f[i][0]\n",
        "    pass\n",
        "\n",
        "  for i in range(0, len(m)):\n",
        "    for c in chords_list:\n",
        "      \n",
        "      if invert_chords_onsets:\n",
        "        onset = -1\n",
        "      else:\n",
        "        onset = 0\n",
        "      \n",
        "      if c[onset][4] == m[i][4]:\n",
        "        d = match_coefficient\n",
        "        if int(c[onset][2] / d) == int(m[i][2] / d):\n",
        "          if int(c[onset][5] / d) == int(m[i][5] / d):\n",
        "            if secrets.randbelow(2): \n",
        "              \n",
        "              song.extend(c)\n",
        "              if secrets.randbelow(10) == 0: print('Generated:' , len(song), 'notes')\n",
        "              break\n",
        "  \n",
        "  if len(song) > desired_number_of_notes:\n",
        "  \n",
        "    break\n",
        "    \n",
        "print('Done!')\n",
        "print('=' * 50)\n",
        "\n",
        "print('Final notes count:', len(song))\n",
        "print('=' * 50)\n",
        "\n",
        "stats = TMIDI.Tegridy_SONG_to_MIDI_Converter(TMIDI.Tegridy_Timings_Converter(song, fixed_start_time=100)[0], output_file_name='/content/Endless-Piano-Music-Composition', list_of_MIDI_patches=[0,0,0,0,0,0,0,0,0,0,0,0,0,0,0,0,0,0,0,0], track_name='Endless Piano Composition',)"
      ],
      "execution_count": null,
      "outputs": []
    },
    {
      "cell_type": "markdown",
      "metadata": {
        "id": "bIfosOSUEZYk"
      },
      "source": [
        "# Plot and Listen"
      ]
    },
    {
      "cell_type": "code",
      "metadata": {
        "cellView": "form",
        "id": "Oa_u-dtSEaoe"
      },
      "source": [
        "#@title Install prereq. and import MIDI player modules (run only once)\n",
        "!apt install fluidsynth #Pip does not work for some reason. Only apt works\n",
        "!pip install midi2audio\n",
        "!pip install pretty_midi\n",
        "\n",
        "from midi2audio import FluidSynth\n",
        "from IPython.display import display, Javascript, HTML, Audio\n",
        "import pretty_midi\n",
        "import librosa.display\n",
        "import matplotlib.pyplot as plt\n",
        "from mpl_toolkits import mplot3d\n",
        "import numpy as np"
      ],
      "execution_count": null,
      "outputs": []
    },
    {
      "cell_type": "code",
      "metadata": {
        "id": "8X6VDILVEcPT",
        "cellView": "form"
      },
      "source": [
        "#@title Plot and listen to the last generated composition\n",
        "#@markdown NOTE: May be very slow with the long compositions\n",
        "print('Synthesizing the last output MIDI. Please stand-by... ')\n",
        "fname = '/content/Endless-Piano-Music-Composition'\n",
        "\n",
        "fn = os.path.basename(fname + '.mid')\n",
        "fn1 = fn.split('.')[0]\n",
        "print('Playing and plotting composition...')\n",
        "\n",
        "pm = pretty_midi.PrettyMIDI(fname + '.mid')\n",
        "\n",
        "# Retrieve piano roll of the MIDI file\n",
        "piano_roll = pm.get_piano_roll()\n",
        "\n",
        "plt.figure(figsize=(14, 5))\n",
        "librosa.display.specshow(piano_roll, x_axis='time', y_axis='cqt_note', sr=64000, cmap=plt.cm.hot)\n",
        "plt.title('Composition: ' + fn1)\n",
        "\n",
        "FluidSynth(\"/usr/share/sounds/sf2/FluidR3_GM.sf2\", 16000).midi_to_audio(str(fname + '.mid'), str(fname + '.wav'))\n",
        "Audio(str(fname + '.wav'), rate=16000)"
      ],
      "execution_count": null,
      "outputs": []
    },
    {
      "cell_type": "markdown",
      "metadata": {
        "id": "pspQUKcdiYHx"
      },
      "source": [
        "# Congrats! You did it! :)"
      ]
    }
  ]
}